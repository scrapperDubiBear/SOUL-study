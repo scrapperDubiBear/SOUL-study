{
 "cells": [
  {
   "cell_type": "code",
   "execution_count": 42,
   "id": "8be9d576-0820-4d92-8181-83d81e8cd6ac",
   "metadata": {},
   "outputs": [],
   "source": [
    "import pandas as pd\n",
    "\n",
    "df = pd.read_csv('output-initial/slm/t5-base_seq512_e8_lr0.0001_bs8/seed42/test.csv')\n",
    "\n"
   ]
  },
  {
   "cell_type": "code",
   "execution_count": 43,
   "id": "aef2f0a9-0ca0-4545-b345-2e1f02d87202",
   "metadata": {},
   "outputs": [],
   "source": [
    "df = df.rename(columns={'prediction': 'predictions'})"
   ]
  },
  {
   "cell_type": "code",
   "execution_count": 44,
   "id": "bffc737c-d6a7-452a-9473-542695ead4b4",
   "metadata": {},
   "outputs": [
    {
     "data": {
      "text/plain": [
       "0    Label: true Justification: The reviewer said t...\n",
       "1    Label: not-given Justification: The reviewer d...\n",
       "2    Label: true Justification: The reviewer said t...\n",
       "3    Label: false Justification: The reviewer state...\n",
       "4    Label: false Justification: The reviewer said ...\n",
       "Name: predictions, dtype: object"
      ]
     },
     "execution_count": 44,
     "metadata": {},
     "output_type": "execute_result"
    }
   ],
   "source": [
    "df['predictions'].head(5)"
   ]
  },
  {
   "cell_type": "code",
   "execution_count": 45,
   "id": "7750b1e1-364b-4caa-bdab-370ef89c5d91",
   "metadata": {},
   "outputs": [],
   "source": [
    "df['prediction'] = df['predictions'].apply(lambda x: x.split('Label: ')[1].split(' Justification:')[0])"
   ]
  },
  {
   "cell_type": "code",
   "execution_count": 46,
   "id": "e91d8c2a-154b-41af-99ac-981bb75bbcec",
   "metadata": {},
   "outputs": [
    {
     "data": {
      "text/plain": [
       "0            true\n",
       "1       not-given\n",
       "2            true\n",
       "3           false\n",
       "4           false\n",
       "          ...    \n",
       "4708    not-given\n",
       "4709    not-given\n",
       "4710         true\n",
       "4711        false\n",
       "4712         true\n",
       "Name: prediction, Length: 4713, dtype: object"
      ]
     },
     "execution_count": 46,
     "metadata": {},
     "output_type": "execute_result"
    }
   ],
   "source": [
    "df['prediction']"
   ]
  },
  {
   "cell_type": "code",
   "execution_count": 47,
   "id": "4b5ecd28-cc30-48e7-bc45-fd84d3f0e761",
   "metadata": {},
   "outputs": [],
   "source": [
    "df['pred-justification'] = df['predictions'].apply(lambda x: x.split('Justification: ')[1])"
   ]
  },
  {
   "cell_type": "code",
   "execution_count": 48,
   "id": "4df6b0a6-2444-4ea1-a416-22a4c5abe18d",
   "metadata": {},
   "outputs": [
    {
     "data": {
      "text/plain": [
       "0       The reviewer said that James Karen and Brooke ...\n",
       "1       The reviewer didn't explain whether he/she gav...\n",
       "2       The reviewer said that he recommends this film...\n",
       "3       The reviewer stated that The Unborn is a reall...\n",
       "4       The reviewer said that the music in the film i...\n",
       "                              ...                        \n",
       "4708    The reviewer makes no mention of the chemistry...\n",
       "4709    The reviewer does not mention anything about t...\n",
       "4710    The reviewer mentions that the people, the pla...\n",
       "4711    The reviewer mentions that the film is a 2004 ...\n",
       "4712    The reviewer mentions that there is one surpri...\n",
       "Name: pred-justification, Length: 4713, dtype: object"
      ]
     },
     "execution_count": 48,
     "metadata": {},
     "output_type": "execute_result"
    }
   ],
   "source": [
    "df['pred-justification']"
   ]
  },
  {
   "cell_type": "code",
   "execution_count": 49,
   "id": "626142ef-ab04-4223-af59-0de650037430",
   "metadata": {},
   "outputs": [
    {
     "data": {
      "text/plain": [
       "Index(['rid', 'review_text', 'statement', 'justification', 'label',\n",
       "       'predictions', 'prediction', 'pred-justification'],\n",
       "      dtype='object')"
      ]
     },
     "execution_count": 49,
     "metadata": {},
     "output_type": "execute_result"
    }
   ],
   "source": [
    "df.columns"
   ]
  },
  {
   "cell_type": "code",
   "execution_count": 50,
   "id": "0a6aef53-af9a-4741-9daa-ecc9d5e9132f",
   "metadata": {},
   "outputs": [],
   "source": [
    "df.drop(columns=['predictions'], inplace=True)"
   ]
  },
  {
   "cell_type": "code",
   "execution_count": 51,
   "id": "90d037ce-dc26-4001-80ab-d81f284d036b",
   "metadata": {},
   "outputs": [
    {
     "data": {
      "text/plain": [
       "Index(['rid', 'review_text', 'statement', 'justification', 'label',\n",
       "       'prediction', 'pred-justification'],\n",
       "      dtype='object')"
      ]
     },
     "execution_count": 51,
     "metadata": {},
     "output_type": "execute_result"
    }
   ],
   "source": [
    "df.columns"
   ]
  },
  {
   "cell_type": "code",
   "execution_count": 52,
   "id": "de88b9a4-6a7a-40d5-a423-86398cbf56eb",
   "metadata": {},
   "outputs": [],
   "source": [
    "ref = df['pred-justification']"
   ]
  },
  {
   "cell_type": "code",
   "execution_count": 53,
   "id": "a2f235ab-a6a3-41e0-a374-08204efe94a5",
   "metadata": {},
   "outputs": [
    {
     "data": {
      "text/plain": [
       "0       The reviewer said that James Karen and Brooke ...\n",
       "1       The reviewer didn't explain whether he/she gav...\n",
       "2       The reviewer said that he recommends this film...\n",
       "3       The reviewer stated that The Unborn is a reall...\n",
       "4       The reviewer said that the music in the film i...\n",
       "                              ...                        \n",
       "4708    The reviewer makes no mention of the chemistry...\n",
       "4709    The reviewer does not mention anything about t...\n",
       "4710    The reviewer mentions that the people, the pla...\n",
       "4711    The reviewer mentions that the film is a 2004 ...\n",
       "4712    The reviewer mentions that there is one surpri...\n",
       "Name: pred-justification, Length: 4713, dtype: object"
      ]
     },
     "execution_count": 53,
     "metadata": {},
     "output_type": "execute_result"
    }
   ],
   "source": [
    "ref"
   ]
  },
  {
   "cell_type": "code",
   "execution_count": 41,
   "id": "dde28e2b-2ddf-4456-8e43-49e36b7fbaf7",
   "metadata": {},
   "outputs": [],
   "source": [
    "df.to_csv('output-initial/slm/t5-base_seq512_e8_lr0.0001_bs8/seed42/test-corrected.csv', index=False)"
   ]
  },
  {
   "cell_type": "code",
   "execution_count": null,
   "id": "a7b479e1-acd7-48c0-81f6-ea06ca30d6fa",
   "metadata": {},
   "outputs": [],
   "source": []
  }
 ],
 "metadata": {
  "kernelspec": {
   "display_name": "Python 3 (ipykernel)",
   "language": "python",
   "name": "python3"
  },
  "language_info": {
   "codemirror_mode": {
    "name": "ipython",
    "version": 3
   },
   "file_extension": ".py",
   "mimetype": "text/x-python",
   "name": "python",
   "nbconvert_exporter": "python",
   "pygments_lexer": "ipython3",
   "version": "3.9.9"
  }
 },
 "nbformat": 4,
 "nbformat_minor": 5
}
